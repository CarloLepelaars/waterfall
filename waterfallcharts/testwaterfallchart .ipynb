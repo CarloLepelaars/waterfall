{
 "cells": [
  {
   "cell_type": "code",
   "execution_count": 4,
   "metadata": {
    "collapsed": true
   },
   "outputs": [],
   "source": [
    "from matplotlib.ticker import FuncFormatter\n",
    "import numpy as np\n",
    "import pandas as pd\n",
    "import matplotlib.pyplot as plt\n",
    "import matplotlib.lines as lines\n",
    "%matplotlib inline"
   ]
  },
  {
   "cell_type": "code",
   "execution_count": 5,
   "metadata": {
    "collapsed": true
   },
   "outputs": [],
   "source": [
    "def waterfall(index, data, Title=\"Example chart\", x_lab=\"Example Increment\", y_lab=\"example values\",\n",
    "              formatting = \"{:,.1f}\", green_color='#29EA38', red_color='#FB3C62', blue_color='#24CAFF',\n",
    "             sorted_value = False, threshold=None, other_label='other', net_label='net'):\n",
    "    '''\n",
    "    Given two sequences ordered appropriately, generate a standard waterfall chart.\n",
    "    Optionally modify the title, axis labels, number formatting, bar colors, \n",
    "    increment sorting, and thresholding. Thresholding groups lower magnitude changes\n",
    "    into a combined group to display as a single entity on the chart.\n",
    "    '''\n",
    "    \n",
    "    #convert data and index to np.array\n",
    "    index=np.array(index)\n",
    "    data=np.array(data)\n",
    "    \n",
    "    #sorted by absolute value \n",
    "    if sorted_value: \n",
    "        abs_data = abs(data)\n",
    "        data_order = np.argsort(abs_data)[::-1]\n",
    "        data = data[data_order]\n",
    "        index = index[data_order]\n",
    "    \n",
    "    #group contributors less than the threshold into 'other' \n",
    "    if threshold:\n",
    "        \n",
    "        abs_data = abs(data)\n",
    "        threshold_v = abs_data.max()*threshold\n",
    "        \n",
    "        if threshold_v > abs_data.min():\n",
    "            index = np.append(index[abs_data>=threshold_v],other_label)\n",
    "            data = np.append(data[abs_data>=threshold_v],sum(data[abs_data<threshold_v]))\n",
    "    \n",
    "    changes = {'amount' : data}\n",
    "    \n",
    "    #define format formatter\n",
    "    def money(x, pos):\n",
    "        'The two args are the value and tick position'\n",
    "        return formatting.format(x)\n",
    "    formatter = FuncFormatter(money)\n",
    "    \n",
    "    fig, ax = plt.subplots()\n",
    "    ax.yaxis.set_major_formatter(formatter)\n",
    "    #Store data and create a blank series to use for the waterfall\n",
    "    trans = pd.DataFrame(data=changes,index=index)\n",
    "    blank = trans.amount.cumsum().shift(1).fillna(0)\n",
    "    \n",
    "    trans['positive'] = trans['amount'] > 0\n",
    "    #Get the net total number for the final element in the waterfall\n",
    "    total = trans.sum().amount\n",
    "    trans.loc[net_label]= total\n",
    "    blank.loc[net_label] = total\n",
    "    #The steps graphically show the levels as well as used for label placement\n",
    "    step = blank.reset_index(drop=True).repeat(3).shift(-1)\n",
    "    step[1::3] = np.nan\n",
    "    #When plotting the last element, we want to show the full bar,\n",
    "    #Set the blank to 0\n",
    "    blank.loc[net_label] = 0\n",
    "    \n",
    "    #define bar colors for net bar\n",
    "    trans.loc[trans['positive'] > 1, 'positive'] = 99\n",
    "    trans.loc[trans['positive'] < 0, 'positive'] = 99\n",
    "    trans.loc[(trans['positive'] > 0) & (trans['positive'] < 1), 'positive'] = 99\n",
    "    \n",
    "    trans['color'] = trans['positive']\n",
    "    \n",
    "    trans.loc[trans['positive'] == 1, 'color'] = green_color\n",
    "    trans.loc[trans['positive'] == 0, 'color'] = red_color\n",
    "    trans.loc[trans['positive'] == 99, 'color'] = blue_color\n",
    "    \n",
    "    \n",
    "    print(trans)\n",
    "    \n",
    "    my_colors = list(trans.color)\n",
    "    \n",
    "    print(my_colors)\n",
    "    \n",
    "    print(blank)\n",
    "    \n",
    "    #Plot and label\n",
    "    my_plot = plt.bar(range(0,len(trans.index)), blank, width=0.5, color='white')\n",
    "    my_plot = plt.bar(range(0,len(trans.index)), trans.amount, width=0.6,\n",
    "             bottom=blank, color=my_colors)       \n",
    "                                   \n",
    "    \n",
    "    # connecting lines\n",
    "    #my_plot = lines.Line2D(step.index, step.values,'k', linewidth = 0.3, color = \"gray\")\n",
    "    #my_plot = lines.Line2D([10,0], [1,10])\n",
    "    \n",
    "    #axis labels\n",
    "    my_plot = plt.xlabel(\"\\n\" + x_lab)\n",
    "    my_plot = plt.ylabel(y_lab + \"\\n\")\n",
    "    #Get the y-axis position for the labels\n",
    "    y_height = trans.amount.cumsum().shift(1).fillna(0)\n",
    "    \n",
    "    temp = list(trans.amount)\n",
    "    \n",
    "    # create dynamic chart range\n",
    "    for i in range(len(temp)):\n",
    "        if (i > 0) & (i < (len(temp) - 1)):\n",
    "            temp[i] = temp[i] + temp[i-1]\n",
    "    \n",
    "    trans['temp'] = temp\n",
    "            \n",
    "    plot_max = trans['temp'].max()\n",
    "    plot_min = trans['temp'].min()\n",
    "    \n",
    "    #Make sure the plot doesn't accidentally focus only on the changes in the data\n",
    "    if all(i >= 0 for i in temp):\n",
    "        plot_min = 0\n",
    "    if all(i < 0 for i in temp):\n",
    "        plot_max = 0\n",
    "    \n",
    "    if abs(plot_max) >= abs(plot_min):\n",
    "        maxmax = abs(plot_max)   \n",
    "    else:\n",
    "        maxmax = abs(plot_min)\n",
    "        \n",
    "    pos_offset = maxmax / 50\n",
    "    \n",
    "    plot_offset = maxmax / 15 ## needs to me cumulative sum dynamic\n",
    "    #Start label loop\n",
    "    loop = 0\n",
    "    for index, row in trans.iterrows():\n",
    "        # For the last item in the list, we don't want to double count\n",
    "        if row['amount'] == total:\n",
    "            y = y_height[loop]\n",
    "        else:\n",
    "            y = y_height[loop] + row['amount']\n",
    "        # Determine if we want a neg or pos offset\n",
    "        if row['amount'] > 0:\n",
    "            y += (pos_offset*1.4)\n",
    "            my_plot = plt.annotate(formatting.format(row['amount']),(loop,y),ha=\"center\", color = 'g')\n",
    "        else:\n",
    "            y -= (pos_offset*4)\n",
    "            my_plot = plt.annotate(formatting.format(row['amount']),(loop,y),ha=\"center\", color = 'r')\n",
    "        loop+=1\n",
    "#     #Scale up the y axis so there is room for the labels\n",
    "    my_plot = plt.ylim(plot_min-round(2*plot_offset, 7),plot_max+round(2*plot_offset, 7))\n",
    "#     #Rotate the labels\n",
    "    my_plot = plt.xticks(range(0,len(trans)), trans.index, rotation=45)\n",
    "    my_plot = plt.axhline(0, color='black', linewidth = 0.6)\n",
    "    return my_plot"
   ]
  },
  {
   "cell_type": "code",
   "execution_count": 6,
   "metadata": {
    "collapsed": true
   },
   "outputs": [],
   "source": [
    "a = ['sales','returns','credit fees','rebates','late charges','shipping']\n",
    "b = [10,-30,-7.5,-25,95,-7]"
   ]
  },
  {
   "cell_type": "code",
   "execution_count": 7,
   "metadata": {},
   "outputs": [
    {
     "name": "stdout",
     "output_type": "stream",
     "text": [
      "              amount  positive    color\n",
      "sales           10.0       1.0  #29EA38\n",
      "returns        -30.0       0.0  #FB3C62\n",
      "credit fees     -7.5       0.0  #FB3C62\n",
      "rebates        -25.0       0.0  #FB3C62\n",
      "late charges    95.0       1.0  #29EA38\n",
      "shipping        -7.0       0.0  #FB3C62\n",
      "net             35.5      99.0  #24CAFF\n",
      "['#29EA38', '#FB3C62', '#FB3C62', '#FB3C62', '#29EA38', '#FB3C62', '#24CAFF']\n",
      "sales            0.0\n",
      "returns         10.0\n",
      "credit fees    -20.0\n",
      "rebates        -27.5\n",
      "late charges   -52.5\n",
      "shipping        42.5\n",
      "net              0.0\n",
      "Name: amount, dtype: float64\n"
     ]
    },
    {
     "data": {
      "text/plain": [
       "<matplotlib.lines.Line2D at 0x10f6fdac8>"
      ]
     },
     "execution_count": 7,
     "metadata": {},
     "output_type": "execute_result"
    },
    {
     "data": {
      "image/png": "[encoded data removed]",
      "text/plain": [
       "<matplotlib.figure.Figure at 0x10f747da0>"
      ]
     },
     "metadata": {},
     "output_type": "display_data"
    }
   ],
   "source": [
    "waterfall(a,b)"
   ]
  },
  {
   "cell_type": "code",
   "execution_count": null,
   "metadata": {
    "collapsed": true
   },
   "outputs": [],
   "source": []
  }
 ],
 "metadata": {
  "kernelspec": {
   "display_name": "Python 3",
   "language": "python",
   "name": "python3"
  },
  "language_info": {
   "codemirror_mode": {
    "name": "ipython",
    "version": 3
   },
   "file_extension": ".py",
   "mimetype": "text/x-python",
   "name": "python",
   "nbconvert_exporter": "python",
   "pygments_lexer": "ipython3",
   "version": "3.6.2"
  }
 },
 "nbformat": 4,
 "nbformat_minor": 2
}
